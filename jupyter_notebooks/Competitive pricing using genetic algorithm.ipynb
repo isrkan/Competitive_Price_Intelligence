{
 "cells": [
  {
   "cell_type": "markdown",
   "id": "90a0d2ba-b1c8-4afa-92c5-ba8aa237962f",
   "metadata": {},
   "source": [
    "# Competitive pricing using genetic algorithm\n",
    "\n",
    "In this notebook, we use a genetic algorithm to optimize the pricing strategy of a supermarket store based on the pricing of its competitors. The goal is to determine the optimal prices for a set of products that will maximize the performance of the store while taking into account the pricing strategies of its competitors.\n",
    "\n",
    "Competitive pricing strategy is important in retail because it helps businesses to remain competitive and attract customers. If a business sets its prices too high, it may lose customers to competitors who offer lower prices. On the other hand, if a business sets its prices too low, it may not be able to cover its costs and may eventually go out of business. Therefore, it is important to find the right balance between pricing and profitability.\n",
    "\n",
    "A genetic algorithm is a suitable approach for this task because it can search through a large number of possible pricing strategies and find the ones that lead to the highest profit. "
   ]
  },
  {
   "cell_type": "code",
   "execution_count": 1,
   "id": "add5b61d-1db5-4839-b501-21e471930ea2",
   "metadata": {},
   "outputs": [],
   "source": [
    "import pandas as pd\n",
    "import numpy as np\n",
    "import random\n",
    "import math\n",
    "\n",
    "import bisect\n",
    "import itertools\n",
    "import matplotlib.pyplot as plt\n",
    "import seaborn as sns\n",
    "\n",
    "import rpy2.robjects as robjects\n",
    "from rpy2.robjects import pandas2ri\n",
    "readRDS = robjects.r['readRDS']"
   ]
  },
  {
   "cell_type": "code",
   "execution_count": 2,
   "id": "fece19ff-2027-4f57-8f92-96ac083ca146",
   "metadata": {},
   "outputs": [],
   "source": [
    "_last_print_len = 0 \n",
    "def reprint(msg, finish=False): \n",
    "    global _last_print_len \n",
    "     \n",
    "    print(' '*_last_print_len, end='\\r') \n",
    "     \n",
    "    if finish: \n",
    "        end = '\\n' \n",
    "        _last_print_len = 0 \n",
    "    else: \n",
    "        end = '\\r' \n",
    "        _last_print_len = len(msg) \n",
    "     \n",
    "    print(msg, end=end)"
   ]
  },
  {
   "cell_type": "markdown",
   "id": "0e45be2f-6218-4a54-b940-bbfe03563809",
   "metadata": {},
   "source": [
    "## Operators\n",
    "\n",
    "### Random population initialization\n",
    "\n",
    "We will create the initial set of candidate solutions by randomly generating individuals that represent the prices for each product. The random prices are generated between the minimum and the maximum price that we defined in advance."
   ]
  },
  {
   "cell_type": "code",
   "execution_count": 3,
   "id": "766cf7a7-6ee9-48cb-88f6-67d115ebc753",
   "metadata": {},
   "outputs": [],
   "source": [
    "def population_generation(population_size,num_products,min_price,max_price,price_step):\n",
    "    # Define the population of chromosomes\n",
    "    population = []\n",
    "    for i in range(population_size):\n",
    "        chromosome = []\n",
    "        for j in range(num_products):\n",
    "            # Generate a random price for each product within the pricing range\n",
    "            price = round(random.uniform(min_price, max_price) / price_step) * price_step\n",
    "            chromosome.append(price)\n",
    "        population.append(chromosome)\n",
    "    return population"
   ]
  },
  {
   "cell_type": "markdown",
   "id": "0fe4e684-dd78-44b7-95bc-29cb7b5209e4",
   "metadata": {},
   "source": [
    "### Fitness evaluation\n",
    "\n",
    "In this step, we will evaluate the fitness of each chromosome in the population. The fitness function includes three different criteria for evaluating the fitness of a chromosome.\n",
    "\n",
    "- Price matching: We want the store to match its prices to the competitors for the same products. In this criterion, the fitness of a chromosome is calculated based on the difference between the prices of the products in the chromosome and the prices of the same products in the competitors' stores.\n",
    "- Psychological pricing: Setting prices below round numbers (such as 4.90 instead of 5) can make the product appear more affordable. In this criterion, we evaluate how well a chromosome implements psychological pricing. The fitness value of a chromosome is calculated based on how close the prices are to round numbers (we check if a price ends in .9 or 9.9). If a price in a chromosome is not close to a round number, a penalty is added to the fitness value based on the distance from the nearest round number. This encourages the chromosomes to use psychological pricing to make their prices more attractive to customers.\n",
    "- Price beating: To evaluate this criterion, we compare the total cost of a basket of products in the chromosome with the cost of the same basket of products in the competitors' stores. If a chromosome offers a lower cost for the basket, it gets a better fitness value than if it has a higher cost. This encourages the chromosomes to offer competitive prices for a random basket of products to beat their competitors.\n",
    "\n",
    "In addition to these criteria, we can add more criteria to penalize the fitness when the number of price changes from the last day in our store increases. This encourages the chromosomes to avoid making frequent price changes that can affect menu costs."
   ]
  },
  {
   "cell_type": "code",
   "execution_count": 4,
   "id": "7a35ba71-642a-4af0-a1a5-3166386627b5",
   "metadata": {},
   "outputs": [],
   "source": [
    "# Define the fitness function\n",
    "def price_matching(chromosome, competitors):\n",
    "    # Calculate the sum of difference against each competitor\n",
    "    competitor_differences = []\n",
    "    for competitor_prices in competitors:\n",
    "        competitor_difference = 0\n",
    "        for i in range(len(chromosome)):\n",
    "            # Calculate the difference between the chromosome price and the competitor price\n",
    "            price_difference = abs(chromosome[i] - competitor_prices[i])\n",
    "            # Calculate the total difference of the chromosome price relative to the competitor prices\n",
    "            competitor_difference += price_difference\n",
    "        competitor_differences.append(competitor_difference)\n",
    "    total_differences = sum(competitor_differences)\n",
    "    return total_differences\n",
    "\n",
    "def basket_price_beating(chromosome, competitors):\n",
    "    # Calculate basket expensiveness against each competitor\n",
    "    competitor_differences = []\n",
    "    for competitor in competitors:\n",
    "        competitor_prices = []\n",
    "        store_prices = []\n",
    "        # Sample prices from each product category to compose basket\n",
    "        for category in set(product_categories):\n",
    "            # Get the indices of the prices that belong to the current category\n",
    "            indices = [i for i, x in enumerate(product_categories) if x == category]\n",
    "            # Randomly select one index from the current category\n",
    "            index = random.choice(indices)\n",
    "        \n",
    "            # Append the price at the selected index from chromosome\n",
    "            competitor_prices.append(competitor[index])\n",
    "            store_prices.append(chromosome[index])\n",
    "            \n",
    "        # Calculate the total price difference of the basket price relative to the competitor prices\n",
    "        basket_difference = sum(store_prices) - sum(competitor_prices)         \n",
    "        competitor_differences.append(basket_difference)\n",
    "    total_differences = sum(competitor_differences)\n",
    "    return total_differences\n",
    "\n",
    "def psychological_pricing(chromosome):  \n",
    "    penalty=0\n",
    "    for price in chromosome:\n",
    "        # Checks if the price ends with a 0.9\n",
    "        if round(price % 1,1) != 0.9:\n",
    "            closest_9_above = int(price) + 0.9\n",
    "            closest_9_below = int(price-1) + 0.9\n",
    "            if abs(price-closest_9_above)>=abs(price-closest_9_below):\n",
    "                penalty += round(1-abs(price-closest_9_below),1)*10*(math.floor((round(price,1)/0.9))/10)\n",
    "            elif abs(price-closest_9_above)<abs(price-closest_9_below):\n",
    "                penalty += round(1-abs(price-closest_9_above),1)*10*(math.floor((round(price,1)/0.9))/10)\n",
    "        # Checks if the price ends with a 9.9\n",
    "        if round(price % 10,1) != 9.9:\n",
    "            closest_9_9_above = math.ceil(price/10)*10 -0.1\n",
    "            closest_9_9_below = math.floor(price/10)*10 -0.1\n",
    "            if abs(price-closest_9_9_above)>=abs(price-closest_9_9_below):\n",
    "                penalty += round(6-abs(price-closest_9_9_below),1)*(math.floor((round(price,1)/9.9))/2)\n",
    "            elif abs(price-closest_9_9_above)<abs(price-closest_9_9_below):\n",
    "                penalty += round(6-abs(price-closest_9_9_above),1)*(math.floor((round(price,1)/9.9))/2)\n",
    "    return penalty/2\n",
    "\n",
    "\n",
    "def fitness_function(population, competitors):\n",
    "    # Compute the fitness of each chromosome in the population\n",
    "    fitness_values = []\n",
    "    for chromosome in population:\n",
    "        fitness_value = price_matching(chromosome, competitors)\n",
    "        fitness_value += basket_price_beating(chromosome, competitors)\n",
    "        fitness_value += psychological_pricing(chromosome)\n",
    "        fitness_values.append(fitness_value)\n",
    "    return fitness_values"
   ]
  },
  {
   "cell_type": "markdown",
   "id": "b233b3a8-0ba0-4afc-9874-28e7ac91a6b8",
   "metadata": {},
   "source": [
    "### Parents selection\n",
    "\n",
    "We choose individuals (parents) from the population to be used for creating new offspring through crossover and mutation. There are various selection strategies that can be used, such as tournament selection, roulette wheel selection, rank-based selection, and random selection, each with their own strengths and weaknesses and have a significant impact on the performance of the genetic algorithm.\n",
    "\n",
    "##### Tournament Selection\n",
    "We randomly select a subset of chromosomes from the population and find the two fittest chromosomes in the subset based on their fitness values. The fittest chromosome is selected as the first parent, and the second fittest chromosome is selected as the second parent.\n",
    "\n",
    "##### Roulette Wheel Selection\n",
    "We calculate the total fitness of the population and the cumulative probabilities for each chromosome in the population. Then, we select two parents using the roulette wheel method based on the cumulative probabilities (it's similar to PPS sampling).\n",
    "\n",
    "##### Rank Selection\n",
    "We rank the chromosomes by their fitness values and calculate the selection probabilities based on the ranks. Then, we select two chromosomes using the rank probabilities.\n",
    "\n",
    "##### Random Selection\n",
    "We select two chromosomes at random from the population."
   ]
  },
  {
   "cell_type": "code",
   "execution_count": 5,
   "id": "fdc24971-5856-406c-a8e9-0010eccefd3d",
   "metadata": {},
   "outputs": [],
   "source": [
    "def parents_selection(population, fitness_values, tournament_size, selection_strategy):\n",
    "    # Create an empty list to store the selected chromosomes\n",
    "    selected_chromosomes = []\n",
    "\n",
    "    if selection_strategy == 'tournament':\n",
    "        # Randomly select a subset of chromosomes from the population\n",
    "        tournament_indices = random.sample(range(len(population)), tournament_size)\n",
    "        tournament_chromosomes = [population[i] for i in tournament_indices]\n",
    "        # Find the fittest chromosome in the subset\n",
    "        tournament_fitness_values = [fitness_values[i] for i in tournament_indices]\n",
    "        #fittest_index = tournament_fitness_values.index(max(tournament_fitness_values))\n",
    "        fittest_index = tournament_fitness_values.index(min(tournament_fitness_values))\n",
    "        fittest_chromosome = tournament_chromosomes[fittest_index]\n",
    "        # Remove the fittest chromosome from the list\n",
    "        tournament_chromosomes.remove(fittest_chromosome)\n",
    "        # Find the second fittest chromosome in the subset\n",
    "        tournament_fitness_values.remove(max(tournament_fitness_values))\n",
    "        second_fittest_index = tournament_fitness_values.index(max(tournament_fitness_values))\n",
    "        second_fittest_chromosome = tournament_chromosomes[second_fittest_index]\n",
    "        selected_chromosomes.extend([fittest_chromosome, second_fittest_chromosome])\n",
    "    elif selection_strategy == 'roulette':\n",
    "        # Calculate the total fitness of the population\n",
    "        total_fitness = sum(fitness_values)\n",
    "        # Invert fitness values to calculate probabilities inversely proportional to fitness\n",
    "        inverted_fitness_values = [total_fitness - fitness_value + 1 for fitness_value in fitness_values]\n",
    "        # Calculate the cumulative probabilities for each chromosome in the population\n",
    "        #cumulative_probabilities = [sum(fitness_values[:i+1])/total_fitness for i in range(len(population))]\n",
    "        cumulative_probabilities = [sum(inverted_fitness_values[:i+1])/sum(inverted_fitness_values) for i in range(len(population))]        \n",
    "        # Select the first parent using roulette wheel selection\n",
    "        parent1_index = bisect.bisect_left(cumulative_probabilities, random.uniform(0, 1))\n",
    "        parent1 = population[parent1_index]\n",
    "        # Select the second parent using roulette wheel selection\n",
    "        parent2_index = bisect.bisect_left(cumulative_probabilities, random.uniform(0, 1))\n",
    "        parent2 = population[parent2_index]\n",
    "        # Add the selected parents to the selected chromosomes list\n",
    "        selected_chromosomes.extend([parent1, parent2])\n",
    "    elif selection_strategy == 'rank':\n",
    "        # Rank the chromosomes by their fitness values\n",
    "        ranked_indices = sorted(range(len(fitness_values)), key=lambda i: fitness_values[i])\n",
    "        ranked_chromosomes = [population[i] for i in ranked_indices]\n",
    "        # Calculate the selection probabilities based on the ranks\n",
    "        #rank_probabilities = [i / sum(range(1, len(ranked_chromosomes) + 1)) for i in range(1, len(ranked_chromosomes) + 1)]\n",
    "        rank_probabilities = [(len(ranked_chromosomes)-i+1) / sum(range(1, len(ranked_chromosomes) + 1)) for i in range(1, len(ranked_chromosomes) + 1)]\n",
    "        # Select two chromosomes using the rank probabilities\n",
    "        selected_chromosomes = random.choices(ranked_chromosomes, weights=rank_probabilities, k=2)\n",
    "    elif selection_strategy == 'random':\n",
    "        # Select two chromosomes at random\n",
    "        selected_chromosomes = random.choices(population, k=2)\n",
    "\n",
    "    return selected_chromosomes"
   ]
  },
  {
   "cell_type": "markdown",
   "id": "f6f92d6b-95dc-44c6-9052-84de8b731f1b",
   "metadata": {},
   "source": [
    "### Crossover\n",
    "\n",
    "We use crossover to generate diversity in the population and to potentially combine better prices from different parent chromosomes to create better solutions. The offspring inherit genetic information from both parents through the process of crossover, which occurs at one or more points along the chromosomes. The goal is to generate diverse price combination that have the potential to be fitter than their parents, and thereby improve the overall fitness of the population over time.\n",
    "\n",
    "\n",
    "##### Single point crossover\n",
    "A random point is selected in the parent chromosomes and the genetic information before the point is taken from one parent and after the point from the other parent to create two offspring chromosomes.\n",
    "\n",
    "##### Two point crossover\n",
    "Two random points are selected in the parent chromosomes and the genetic information between the two points is exchanged to create two offspring chromosomes.\n",
    "\n",
    "##### Uniform crossover\n",
    "The offspring chromosomes are created by randomly selecting genetic information from both parent chromosomes with equal probability. Each gene in the offspring is selected from either parent with 50% probability."
   ]
  },
  {
   "cell_type": "code",
   "execution_count": 6,
   "id": "6e13b44a-a199-4e47-9c7c-3310863352c9",
   "metadata": {},
   "outputs": [],
   "source": [
    "def crossover(parent1, parent2, crossover_strategy):\n",
    "    \n",
    "    # Perform the appropriate crossover strategy\n",
    "    if crossover_strategy == 'single_point':\n",
    "        # Select a random crossover point\n",
    "        crossover_point = random.randint(1, len(parent1) - 1)\n",
    "        offspring1 = parent1[:crossover_point] + parent2[crossover_point:]\n",
    "        offspring2 = parent2[:crossover_point] + parent1[crossover_point:]\n",
    "    elif crossover_strategy == 'two_point':\n",
    "        # Select two random crossover points\n",
    "        crossover_point1 = random.randint(1, len(parent1) - 2)\n",
    "        crossover_point2 = random.randint(crossover_point1 + 1, len(parent1) - 1)\n",
    "        offspring1 = parent1[:crossover_point1] + parent2[crossover_point1:crossover_point2] + parent1[crossover_point2:]\n",
    "        offspring2 = parent2[:crossover_point1] + parent1[crossover_point1:crossover_point2] + parent2[crossover_point2:]\n",
    "    elif crossover_strategy == 'uniform':\n",
    "        # Select genes from both parents with equal probability\n",
    "        offspring1 = [parent1[i] if random.random() < 0.5 else parent2[i] for i in range(len(parent1))]\n",
    "        offspring2 = [parent2[i] if random.random() < 0.5 else parent1[i] for i in range(len(parent2))]\n",
    "    \n",
    "    return offspring1, offspring2"
   ]
  },
  {
   "cell_type": "markdown",
   "id": "b07cd926-0a51-43a5-9d4f-66dee90c8f90",
   "metadata": {},
   "source": [
    "### Mutation\n",
    "\n",
    "We use mutation to introduce random changes in an individual's genome (pricing). It is used to maintain genetic diversity in the population and to prevent the algorithm from getting stuck in local optima. The mutation operator randomly changes one or more genes in an individual's chromosome with a certain probability we define in the mutation rate.\n",
    "\n",
    "##### Random resetting\n",
    "In this strategy, a random gene in the chromosome is replaced with a new random value within the specified range.\n",
    "\n",
    "##### Swap\n",
    "In this strategy, two random genes in the chromosome are swapped.\n",
    "\n",
    "##### Scramble\n",
    "In this strategy, a subset of genes within the chromosome are scrambled randomly.\n",
    "\n",
    "##### Inversion\n",
    "In this strategy, a subset of genes within the chromosome are inverted (i.e., their order is reversed)."
   ]
  },
  {
   "cell_type": "code",
   "execution_count": 7,
   "id": "4cf3cfbf-2f63-45bf-be16-4e7aaded085b",
   "metadata": {},
   "outputs": [],
   "source": [
    "def mutation(offspring, mutation_rate, min_price, max_price, mutation_strategy):\n",
    "    for i in range(len(offspring)):\n",
    "        # Generate a random number between 0 and 1\n",
    "        r = random.random()\n",
    "        # If the random number is less than the mutation rate, mutate the gene\n",
    "        if r < mutation_rate:\n",
    "            if mutation_strategy == 'random_resetting':\n",
    "                # Replace the gene with a new random value\n",
    "                offspring[i] = round(random.uniform(min_price, max_price) / price_step) * price_step\n",
    "            elif mutation_strategy == 'swap':\n",
    "                # Swap the current gene with another random gene in the chromosome\n",
    "                j = i\n",
    "                while j == i:\n",
    "                    j = random.randint(0, len(offspring) - 1)\n",
    "                offspring[i], offspring[j] = offspring[j], offspring[i]\n",
    "            elif mutation_strategy == 'scramble':\n",
    "                # Scramble a subset of genes within the chromosome\n",
    "                j = random.randint(0, len(offspring) - 1)\n",
    "                k = random.randint(j, len(offspring) - 1)\n",
    "                subset = offspring[j:k]\n",
    "                random.shuffle(subset)\n",
    "                offspring[j:k] = subset\n",
    "            elif mutation_strategy == 'inversion':\n",
    "                # Invert a subset of genes within the chromosome\n",
    "                j = random.randint(0, len(offspring) - 1)\n",
    "                k = random.randint(j, len(offspring) - 1)\n",
    "                subset = offspring[j:k]\n",
    "                subset.reverse()\n",
    "                offspring[j:k] = subset\n",
    "                \n",
    "    return offspring"
   ]
  },
  {
   "cell_type": "code",
   "execution_count": 8,
   "id": "4b8176ad-56be-4324-b811-f1e9d0d79cf5",
   "metadata": {},
   "outputs": [],
   "source": [
    "def join_population(population, offspring1, offspring2):\n",
    "    population.append(offspring1)\n",
    "    population.append(offspring2)\n",
    "    return population"
   ]
  },
  {
   "cell_type": "markdown",
   "id": "970a8e97-9ceb-49f7-8d7a-d9bb6db57dbe",
   "metadata": {},
   "source": [
    "### Migration\n",
    "\n",
    "We use migration to exchange individuals between different subpopulations (islands) in order to increase genetic diversity and prevent premature convergence to suboptimal solutions.\n",
    "\n",
    "##### Elite migration\n",
    "In this policy, the fittest individuals from the source island are exchanged with the least fit individuals from the destination island.\n",
    "\n",
    "##### Random migration\n",
    "In this policy, random individuals are selected from both the source and destination islands to be exchanged."
   ]
  },
  {
   "cell_type": "code",
   "execution_count": 9,
   "id": "a778cd77-8836-47c6-bda7-847acbb901fa",
   "metadata": {},
   "outputs": [],
   "source": [
    "def elite_migration(islands, fitness_values, source_index, dest_index,num_migrants):\n",
    "    # Find the indices of the fittest individuals in the source island and the least fit individuals in the destination island\n",
    "    source_indices = sorted(range(len(fitness_values[source_index])), key=lambda j: fitness_values[source_index][j], reverse=False)[:num_migrants]\n",
    "    dest_indices = sorted(range(len(fitness_values[dest_index])), key=lambda j: fitness_values[dest_index][j], reverse=True)[:num_migrants]\n",
    "    # Exchange the least fit individuals in the destination island with the fittest individuals from the source island\n",
    "    for s, d in zip(source_indices, dest_indices):\n",
    "        emigrants1 = islands[source_index][s].copy()\n",
    "        emigrants2 = islands[dest_index][d].copy()\n",
    "        islands[dest_index][d] = emigrants1\n",
    "        islands[source_index][s] = emigrants2\n",
    "        fitness_values[dest_index][d] = fitness_function([islands[source_index][s]], competitors)[0]\n",
    "        fitness_values[source_index][s] = fitness_function([islands[dest_index][d]], competitors)[0]\n",
    "\n",
    "def random_migration(islands, fitness_values, source_index, dest_index, num_migrants):\n",
    "    # Choose random individuals from the source island and destination island to exchange\n",
    "    source_indices = random.sample(range(len(islands[source_index])), num_migrants)\n",
    "    dest_indices = random.sample(range(len(islands[dest_index])), num_migrants)\n",
    "    # Exchange the chosen individuals\n",
    "    for s, d in zip(source_indices, dest_indices):\n",
    "        emigrants1 = islands[source_index][s].copy()\n",
    "        emigrants2 = islands[dest_index][d].copy()\n",
    "        islands[dest_index][d] = emigrants1\n",
    "        islands[source_index][s] = emigrants2\n",
    "        fitness_values[dest_index][d] = fitness_function([islands[source_index][s]], competitors)[0]\n",
    "        fitness_values[source_index][s] = fitness_function([islands[dest_index][d]], competitors)[0]        \n",
    "\n",
    "def migration(islands, fitness_values, immigration_rate, immigration_policy):\n",
    "    # Determine the number of immigrants to send and the number to receive\n",
    "    num_migrants = int(immigration_rate * len(islands[0]))\n",
    "    for i in range(len(islands)):\n",
    "        # Determine the index of the island to exchange immigrants with\n",
    "        exchange_index = (i + 1) % len(islands)\n",
    "        # Perform immigration based on the specified policy\n",
    "        if immigration_policy == 'elite_migration':\n",
    "            elite_migration(islands, fitness_values, i, exchange_index,num_migrants)\n",
    "        elif immigration_policy == 'random_migration':\n",
    "            random_migration(islands,fitness_values, i, exchange_index,num_migrants)\n",
    "    \n",
    "    return islands, fitness_values"
   ]
  },
  {
   "cell_type": "markdown",
   "id": "295e63df-1b7e-4c88-93f5-e3fbbadfffa3",
   "metadata": {},
   "source": [
    "#### Data"
   ]
  },
  {
   "cell_type": "code",
   "execution_count": 10,
   "id": "ba5a3e6a-68fb-4211-be3c-654cd90a4ec5",
   "metadata": {},
   "outputs": [
    {
     "name": "stdout",
     "output_type": "stream",
     "text": [
      "Number of products: 266\n"
     ]
    }
   ],
   "source": [
    "# Product categories to optimize\n",
    "categories = [\"rice\",\"pasta\",\"legumes and cereals\",\"cheese\",\"yogurt\",\"biscuits\",\"waffles\",\"chocolates\",\"ketchup, mayonnaise and mustard\"]\n",
    "\n",
    "# Desired date\n",
    "date= '2019-07-15'\n",
    "\n",
    "# List of stores\n",
    "stores = ['1049', '1342']\n",
    "\n",
    "# Import the data\n",
    "store_data = [pd.DataFrame() for i in range(len(stores))]\n",
    "\n",
    "for category in categories:\n",
    "    for i, store in enumerate(stores):\n",
    "        # Read the data for the current store and category\n",
    "        category_store_data = readRDS('G:/retail data/' + category + '/' + store + '.rds')\n",
    "        category_store_data = pandas2ri.rpy2py_dataframe(category_store_data)\n",
    "        category_store_data['product_category'] = category\n",
    "        category_store_data['Date'] = pd.to_datetime(category_store_data['Date'], utc=True, unit='d').apply(lambda x: x.strftime('%Y-%m-%d'))\n",
    "        category_store_date_data = category_store_data[category_store_data['Date'] == date]\n",
    "        store_data[i] = pd.concat([store_data[i], category_store_date_data], axis=0)\n",
    "    \n",
    "# Remove the products that are not common in all stores\n",
    "for i in range(len(stores)):\n",
    "    for j in range(i+1, len(stores)):\n",
    "        store_data[i] = store_data[i][store_data[i]['ProductDescription'].isin(store_data[j]['ProductDescription'])]\n",
    "        store_data[j] = store_data[j][store_data[j]['ProductDescription'].isin(store_data[i]['ProductDescription'])]\n",
    "    \n",
    "# Sort the data by product description\n",
    "for i in range(len(stores)):\n",
    "    store_data[i].sort_values(by=['ProductDescription'], inplace=True)\n",
    "\n",
    "# Define the number of products\n",
    "num_products = len(list(store_data[0]['FinalPrice']))\n",
    "print('Number of products:', num_products)\n",
    "product_categories = list(store_data[0]['product_category'])\n",
    "\n",
    "# Define the competitors\n",
    "competitors = [list(store['FinalPrice']) for store in store_data]\n",
    "\n",
    "# Define the pricing range\n",
    "min_price = min([min(list(store['FinalPrice'])) for store in store_data])\n",
    "max_price = max([max(list(store['FinalPrice'])) for store in store_data])"
   ]
  },
  {
   "cell_type": "markdown",
   "id": "4a17c1f8-d0fe-4977-b001-38876a07ba65",
   "metadata": {},
   "source": [
    "#### Parameters"
   ]
  },
  {
   "cell_type": "code",
   "execution_count": 11,
   "id": "8527c738-6afc-4f55-a9ef-f9046f2a6f7b",
   "metadata": {},
   "outputs": [],
   "source": [
    "# Define the population size\n",
    "population_size = 10\n",
    "# Define the tournament size for parent selection\n",
    "tournament_size=2\n",
    "# Define the price step - by the Israeli law prices can be defined in steps of 10 cents\n",
    "price_step = 0.1\n",
    "#Define the mutation rate\n",
    "mutation_rate = 0.5\n",
    "# Define the number of generations\n",
    "gen_num = 1000\n",
    "#Define the immigration rate\n",
    "immigration_rate = 0.2\n",
    "# Define the number of periods until the next immigration\n",
    "immigration_periods = 200\n",
    "\n",
    "# Define the strategies\n",
    "selection_strategies = ['tournament','roulette','rank','random']\n",
    "crossover_strategies = ['single_point','two_point','uniform']\n",
    "mutation_strategies = ['random_resetting','swap','scramble','inversion']\n",
    "immigration_policies = ['elite_migration','random_migration']"
   ]
  },
  {
   "cell_type": "code",
   "execution_count": 12,
   "id": "eaf41899-a09f-4ea1-a143-fc37822e4146",
   "metadata": {},
   "outputs": [
    {
     "data": {
      "text/plain": [
       "48"
      ]
     },
     "execution_count": 12,
     "metadata": {},
     "output_type": "execute_result"
    }
   ],
   "source": [
    "# Create a list of all possible combinations of selection, crossover, and mutation strategies -each will be an island\n",
    "strategy_combinations = list(itertools.product(selection_strategies, crossover_strategies, mutation_strategies))\n",
    "len(strategy_combinations)"
   ]
  },
  {
   "cell_type": "markdown",
   "id": "255c2751-66f3-4d06-81d0-3f526eb2714d",
   "metadata": {},
   "source": [
    "#### Algorithm\n",
    "\n",
    "In our genetic algorithm application, we start with an initial population of chromosomes representing potential solutions to our problem. In each generation, we use the fitness function to evaluate the fitness of each chromosome in the population. To generate new individuals, we are using here two methods: through crossover and mutation of parent chromosomes, and through cloning and mutation of existing individuals.\n",
    "\n",
    "- **Offspring generation**: In this method, the algorithm creates new individuals by using crossover and mutation operations on the parent chromosomes. This generates new individuals that combine prices from their parents while introducing some random variation, allowing the population to explore a wider range of potential solutions.\n",
    "- **Cloning**: This is an extension to the genetic algorithm where we create new individuals by making clones, of existing individuals in the population and applying mutation to them. This creates new individuals that may be slightly different from their parent, and helps to prevent premature convergence to a suboptimal solution. By creating clones and adding mutation, we can explore nearby regions of the search space and potentially find better solutions.\n",
    "\n",
    "We use both offspring generation and cloning because it can improve the performance of the genetic algorithm by exploring different regions of the search space.\n",
    "\n",
    "In addition, the algorithm implements an immigration policy where, every $n$ generations, a subset of the population is exchanged between different islands, to increase genetic diversity and explore new regions of the search space."
   ]
  },
  {
   "cell_type": "code",
   "execution_count": 13,
   "id": "66b5208b-748c-42c0-90f9-c6f843caa938",
   "metadata": {},
   "outputs": [
    {
     "name": "stdout",
     "output_type": "stream",
     "text": [
      " Global score:8595.84 in generation: 0\n"
     ]
    }
   ],
   "source": [
    "# Create a list of islands, one for each strategy combination\n",
    "islands = []\n",
    "fitness_values = []\n",
    "best_scores = []\n",
    "\n",
    "for strategy_combination in strategy_combinations:\n",
    "    # Generate population for the current strategy combination\n",
    "    population = population_generation(population_size, num_products, min_price, max_price, price_step)\n",
    "    islands.append(population)\n",
    "    \n",
    "    # Evaluate fitness values for the current population\n",
    "    fitness_value = fitness_function(population, competitors)\n",
    "    fitness_values.append(fitness_value)\n",
    "    \n",
    "    # Store the best score for the current generation for the current population\n",
    "    best_score = min(fitness_value)\n",
    "    best_scores.append([best_score])\n",
    "    \n",
    "overall_best_score = min([min(scores) for scores in best_scores])\n",
    "global_score = \" Global score:\" + str(overall_best_score) + \" in generation: 0\"\n",
    "print(global_score)"
   ]
  },
  {
   "cell_type": "code",
   "execution_count": 14,
   "id": "75af3f87-5aab-41f0-9cdc-44cdf1a92b36",
   "metadata": {},
   "outputs": [
    {
     "name": "stdout",
     "output_type": "stream",
     "text": [
      "New best score:3038.5400000000022 in island: 35 in generation: 1000 Global score:2884.7650000000026 in island: 36 in generation: 993\r"
     ]
    }
   ],
   "source": [
    "for gen in range(gen_num):\n",
    "    for i in range(len(islands)):\n",
    "        population = islands[i]\n",
    "        selection_strategy, crossover_strategy, mutation_strategy = strategy_combinations[i]\n",
    "        \n",
    "        # Offsprings creartion\n",
    "        # Selection, crossover, mutation\n",
    "        parents = parents_selection(population, fitness_values[i], tournament_size, selection_strategy)\n",
    "        offspring1, offspring2 = crossover(parents[0], parents[1], crossover_strategy)\n",
    "        offspring1 = mutation(offspring1, mutation_rate, min_price, max_price, mutation_strategy)\n",
    "        offspring2 = mutation(offspring2, mutation_rate, min_price, max_price, mutation_strategy)\n",
    "        \n",
    "        # clones creartion\n",
    "        # Selection, mutation\n",
    "        clones = parents_selection(population, fitness_values[i], tournament_size, selection_strategy)\n",
    "        clone1, clone2 = clones[0], clones[1]\n",
    "        clone1 = mutation(clone1, mutation_rate, min_price, max_price, mutation_strategy)\n",
    "        clone2 = mutation(clone2, mutation_rate, min_price, max_price, mutation_strategy)\n",
    "        \n",
    "        # Join to the offsprings and clones to the population and evaluate the fitness\n",
    "        population = join_population(population, offspring1, offspring2)\n",
    "        population = join_population(population, clone1, clone2)\n",
    "        fitness_values[i] = fitness_function(population, competitors)        \n",
    "        # select the four least fit chromosomes\n",
    "        lowest_indices = sorted(range(len(fitness_values[i])), key=lambda j: fitness_values[i][j], reverse=True)[:2]\n",
    "        # Remove the chromosomes with the lowest fitness values from the population\n",
    "        population = [population[j] for j in range(len(population)) if j not in lowest_indices]\n",
    "        fitness_values[i] = [fitness_values[i][j] for j in range(len(fitness_values[i])) if j not in lowest_indices]\n",
    "        \n",
    "        # Update the population in the island\n",
    "        islands[i] = population\n",
    "        \n",
    "        # Print the overall best score if it is the best score so far\n",
    "        overall_best_score = min([min(scores) for scores in best_scores])\n",
    "        if min(fitness_values[i]) < overall_best_score:\n",
    "            new_global_score = \"New global score:\" + str(min(fitness_values[i])) + \" in island: \"+ str(i+1) + \" in generation: \"+str(gen+1)\n",
    "            reprint(new_global_score)\n",
    "            overall_best_score = min(fitness_values[i])\n",
    "            global_score = \" Global score:\" + str(min(fitness_values[i])) + \" in island: \"+ str(i+1) + \" in generation: \"+str(gen+1)\n",
    "        # Print the best score for this island if it is the best score so far\n",
    "        if min(fitness_values[i]) < min(best_scores[i]):\n",
    "            new_score = \"New best score:\" + str(min(fitness_values[i])) + \" in island: \"+ str(i+1) + \" in generation: \"+str(gen+1)\n",
    "            reprint(new_score + global_score)\n",
    "\n",
    "            \n",
    "        # Store the best score for this generation\n",
    "        best_scores[i].append(min(fitness_values[i]))\n",
    "        \n",
    "        # Perform immigration every n generations\n",
    "        if gen % immigration_periods == 0:\n",
    "            chosen_policy = random.choice(immigration_policies)\n",
    "            islands, fitness_values = migration(islands, fitness_values, immigration_rate, chosen_policy)"
   ]
  },
  {
   "cell_type": "markdown",
   "id": "8c9fcaa2-d307-4795-addb-11bf0399344c",
   "metadata": {},
   "source": [
    "### Evaluation\n",
    "\n",
    "##### Present the best solution"
   ]
  },
  {
   "cell_type": "code",
   "execution_count": 28,
   "id": "c56c377f-bd5b-4951-9128-a61a8c345f18",
   "metadata": {},
   "outputs": [
    {
     "name": "stdout",
     "output_type": "stream",
     "text": [
      "Best score: 2901.6650000000022\n",
      "Best strategy: parent selection: rank crossover: uniform mutation: inversion\n"
     ]
    },
    {
     "data": {
      "text/html": [
       "<div>\n",
       "<style scoped>\n",
       "    .dataframe tbody tr th:only-of-type {\n",
       "        vertical-align: middle;\n",
       "    }\n",
       "\n",
       "    .dataframe tbody tr th {\n",
       "        vertical-align: top;\n",
       "    }\n",
       "\n",
       "    .dataframe thead th {\n",
       "        text-align: right;\n",
       "    }\n",
       "</style>\n",
       "<table border=\"1\" class=\"dataframe\">\n",
       "  <thead>\n",
       "    <tr style=\"text-align: right;\">\n",
       "      <th></th>\n",
       "      <th>Product</th>\n",
       "      <th>Recommended price</th>\n",
       "      <th>Category</th>\n",
       "    </tr>\n",
       "  </thead>\n",
       "  <tbody>\n",
       "    <tr>\n",
       "      <th>0</th>\n",
       "      <td>אורז בסמטי מהדרין דאוואט 1 קילו</td>\n",
       "      <td>8.9</td>\n",
       "      <td>rice</td>\n",
       "    </tr>\n",
       "    <tr>\n",
       "      <th>1</th>\n",
       "      <td>אורז פרסי קלאסי סוגת 1 קילו</td>\n",
       "      <td>6.9</td>\n",
       "      <td>rice</td>\n",
       "    </tr>\n",
       "    <tr>\n",
       "      <th>2</th>\n",
       "      <td>אצבעות וופל מצופות שוקולד חלב במילוי קרם בטעם ...</td>\n",
       "      <td>6.6</td>\n",
       "      <td>waffles</td>\n",
       "    </tr>\n",
       "    <tr>\n",
       "      <th>3</th>\n",
       "      <td>אצבעות וופל מצופות שוקולד מריר במילוי קרם טראפ...</td>\n",
       "      <td>6.6</td>\n",
       "      <td>waffles</td>\n",
       "    </tr>\n",
       "    <tr>\n",
       "      <th>4</th>\n",
       "      <td>באדי יוגורט בטעם תות שדה 3% מהדרין תנובה 500 מ\"ל</td>\n",
       "      <td>9.9</td>\n",
       "      <td>yogurt</td>\n",
       "    </tr>\n",
       "  </tbody>\n",
       "</table>\n",
       "</div>"
      ],
      "text/plain": [
       "                                             Product  Recommended price  \\\n",
       "0                    אורז בסמטי מהדרין דאוואט 1 קילו                8.9   \n",
       "1                        אורז פרסי קלאסי סוגת 1 קילו                6.9   \n",
       "2  אצבעות וופל מצופות שוקולד חלב במילוי קרם בטעם ...                6.6   \n",
       "3  אצבעות וופל מצופות שוקולד מריר במילוי קרם טראפ...                6.6   \n",
       "4   באדי יוגורט בטעם תות שדה 3% מהדרין תנובה 500 מ\"ל                9.9   \n",
       "\n",
       "  Category  \n",
       "0     rice  \n",
       "1     rice  \n",
       "2  waffles  \n",
       "3  waffles  \n",
       "4   yogurt  "
      ]
     },
     "execution_count": 28,
     "metadata": {},
     "output_type": "execute_result"
    }
   ],
   "source": [
    "best_chromosome = None\n",
    "best_score = float('inf')\n",
    "\n",
    "# Loop over each island\n",
    "for i in range(len(islands)):\n",
    "    # Find the index of the best fitness score in this island\n",
    "    best_index = fitness_values[i].index(min(fitness_values[i]))\n",
    "    # If the best score in this island is better than the current overall best score, update the best chromosome and best score\n",
    "    if fitness_values[i][best_index] < best_score:\n",
    "        best_chromosome = islands[i][best_index]\n",
    "        best_score = fitness_values[i][best_index]\n",
    "        best_strategy = strategy_combinations[i]\n",
    "\n",
    "print(\"Best score:\", best_score)\n",
    "print(\"Best strategy: parent selection:\", best_strategy[0], 'crossover:',best_strategy[1], 'mutation:',best_strategy[2])\n",
    "best_chromosome_df = pd.DataFrame({'Product':list(store_data[0]['ProductDescription']),'Recommended price': best_chromosome, 'Category': product_categories})\n",
    "best_chromosome_df[:5]"
   ]
  },
  {
   "cell_type": "markdown",
   "id": "3f250820-6660-4602-868e-7f904db0e6b5",
   "metadata": {},
   "source": [
    "##### Psychological prices distribution\n",
    "\n",
    "We will visulaise the distribution of price endigs to evaluate our best solution. The first histogram shows the frequency of decimal values in the prices ending in the best solution, while the second histogram shows the frequency of unit digits for prices ending in .9."
   ]
  },
  {
   "cell_type": "code",
   "execution_count": 16,
   "id": "28b9f9ed-e14f-450a-9acb-cbb9dae363dd",
   "metadata": {},
   "outputs": [
    {
     "data": {
      "image/png": "[encoded data removed]",
      "text/plain": [
       "<Figure size 864x288 with 2 Axes>"
      ]
     },
     "metadata": {
      "needs_background": "light"
     },
     "output_type": "display_data"
    }
   ],
   "source": [
    "# Calculate the decimal frequency of the chromosome\n",
    "decimal_frequencies = []\n",
    "decimal_frequencies = [x % 1 for x in best_chromosome]\n",
    "\n",
    "# Extract decimal values that end in .9\n",
    "ending_in_9 = [x for x in best_chromosome if str(x)[-2:] == '.9']\n",
    "# Extract unit digits\n",
    "unit_digits = [int(str(x)[-3]) for x in ending_in_9]\n",
    "\n",
    "fig, axs = plt.subplots(1, 2, figsize=(12, 4))\n",
    "\n",
    "axs[0].hist(decimal_frequencies, bins=20)\n",
    "axs[0].set_xlabel('Decimal')\n",
    "axs[0].set_ylabel('Frequency')\n",
    "axs[0].set_title('Histogram of price ending in the best solution')\n",
    "\n",
    "axs[1].hist(unit_digits, bins=range(10))\n",
    "axs[1].set_title(\"Histogram of unit digits for prices ending in .9\")\n",
    "axs[1].set_xlabel(\"Unit digit\")\n",
    "axs[1].set_ylabel(\"Frequency\")\n",
    "\n",
    "plt.show()"
   ]
  },
  {
   "cell_type": "markdown",
   "id": "b5fa9966-210a-47cf-9534-26448d712613",
   "metadata": {},
   "source": [
    "We can observe a strong tendency to price products with endings of \".9\" and a lesser extent tendency to price products with endings of \"9.9\", which can create a psychological impact on the buyers.\n",
    "\n",
    "##### Price matching\n",
    "\n",
    "We will visualize the matched priced for each competitor and each product category "
   ]
  },
  {
   "cell_type": "code",
   "execution_count": 25,
   "id": "bb4b1b16-76c4-464e-9d05-fd4382520b4a",
   "metadata": {},
   "outputs": [
    {
     "data": {
      "image/png": "[encoded data removed]",
      "text/plain": [
       "<Figure size 432x288 with 1 Axes>"
      ]
     },
     "metadata": {
      "needs_background": "light"
     },
     "output_type": "display_data"
    }
   ],
   "source": [
    "# Create a list of dictionaries to store the frequencies of matching prices by category for each competitor\n",
    "match_freq_list = [{category: 0 for category in product_categories} for _ in range(len(competitors))]\n",
    "\n",
    "# Compare to the competitors' prices\n",
    "for i, price in enumerate(best_chromosome):\n",
    "    category = product_categories[i]\n",
    "    for j, competitor in enumerate(competitors):\n",
    "        if price == competitor[i]:\n",
    "            match_freq_list[j][category] += 1\n",
    "\n",
    "# Calculate the total number of prices in each category\n",
    "category_totals = {category: product_categories.count(category) for category in product_categories}\n",
    "# Calculate the frequency of matching prices as a percentage for each competitor\n",
    "match_percent_list = [{category: round((match_freq_list[j][category] / category_totals[category]) * 100) for category in product_categories} for j in range(len(competitors))]\n",
    "\n",
    "# Plot\n",
    "fig, ax = plt.subplots()\n",
    "categories = list(match_percent_list[0].keys())\n",
    "num_competitors = len(competitors)\n",
    "bar_width = 1/(num_competitors+1)\n",
    "\n",
    "for j in range(num_competitors):\n",
    "    values = list(match_percent_list[j].values())\n",
    "    ax.bar([i+(j-num_competitors/2)*bar_width for i in range(len(categories))], values, width=bar_width, label=f\"Competitor {j+1}\")\n",
    "    \n",
    "ax.set_ylabel('% of prices matching competitor')\n",
    "ax.set_title('Frequency of matching prices by category')\n",
    "ax.set_xticks([i for i in range(len(categories))])\n",
    "ax.set_xticklabels(categories, rotation=90)\n",
    "ax.legend(bbox_to_anchor=(1, 0.5))\n",
    "plt.show()"
   ]
  },
  {
   "cell_type": "markdown",
   "id": "0378978f-be70-4d3d-aeaa-39dde9d27ede",
   "metadata": {},
   "source": [
    "We can see that in some categories, we matched our prices in higher percents than other categories.\n",
    "\n",
    "Now, we will visualise how much prices of our best solution differ from the competitors' prices"
   ]
  },
  {
   "cell_type": "code",
   "execution_count": 18,
   "id": "22706919-fc53-4541-abce-946738e8e988",
   "metadata": {},
   "outputs": [
    {
     "data": {
      "image/png": "[encoded data removed]",
      "text/plain": [
       "<Figure size 432x288 with 1 Axes>"
      ]
     },
     "metadata": {
      "needs_background": "light"
     },
     "output_type": "display_data"
    }
   ],
   "source": [
    "price_diffs = []\n",
    "# Calculate the price differences\n",
    "for competitor in competitors:\n",
    "    diffs = []\n",
    "    for i, price in enumerate(best_chromosome):\n",
    "        diff = price - competitor[i]\n",
    "        diffs.append(diff)\n",
    "    price_diffs.append(diffs)\n",
    "\n",
    "# Plot the distribution of price differences for each competitor\n",
    "fig, ax = plt.subplots()\n",
    "for i, competitor in enumerate(competitors):\n",
    "    mu, sigma = np.mean(price_diffs[i]), np.std(price_diffs[i])\n",
    "    ax.hist(price_diffs[i], bins=20, alpha=0.5, label='Competitor {}'.format(i+1))\n",
    "    ax.axvline(mu, color='k', linestyle='--', label='Mean ({:.2f}): Competitor {}'.format(mu, i+1))\n",
    "    ax.axvline(mu-sigma, color='r', linestyle='--', label='Standard deviation ({:.2f}): Competitor {}'.format(sigma, i+1))\n",
    "    ax.axvline(mu+sigma, color='r', linestyle='--')\n",
    "ax.set_xlabel('Price differences')\n",
    "ax.set_ylabel('Frequency')\n",
    "ax.set_title('Distribution of price differences')\n",
    "ax.legend(bbox_to_anchor=(1, 0.5))\n",
    "plt.show()"
   ]
  },
  {
   "cell_type": "markdown",
   "id": "45c897d2-7ead-4872-9932-1ae36e859559",
   "metadata": {},
   "source": [
    "From the plot, we can see that the mean price differences for all competitors are negative, which indicates that the prices in the best solution are lower than those of the competitors. We can also see that the distribution of price differences for each competitor is left skewed.\n",
    "\n",
    "##### Basket price beating\n",
    "\n",
    "We will evaluate how much we can attract the costumers by giving cheaper price for a random basket of products. We will do it by using bootstrap to create distribution of the difference between our best solution to the competitors' basket prices."
   ]
  },
  {
   "cell_type": "code",
   "execution_count": 24,
   "id": "60d6e025-d68b-49bc-8fd9-57c6d78055e2",
   "metadata": {},
   "outputs": [
    {
     "name": "stdout",
     "output_type": "stream",
     "text": [
      "Difference mean: -1.425740624999999\n"
     ]
    },
    {
     "data": {
      "image/png": "[encoded data removed]",
      "text/plain": [
       "<Figure size 432x288 with 1 Axes>"
      ]
     },
     "metadata": {
      "needs_background": "light"
     },
     "output_type": "display_data"
    }
   ],
   "source": [
    "# Set the number of samples to generate\n",
    "num_samples = 1000\n",
    "\n",
    "bootstrap_means = []\n",
    "bootstrap_differences = []\n",
    "\n",
    "for i in range(num_samples):\n",
    "    competitor_samples = []\n",
    "    store_samples = []\n",
    "    for competitor in competitors:\n",
    "        competitor_prices = []\n",
    "        for category in set(product_categories):\n",
    "            # Get the indices of the prices that belong to the current category\n",
    "            indices = [i for i, x in enumerate(product_categories) if x == category]\n",
    "            # Randomly select one index from the current category\n",
    "            index = random.choice(indices)\n",
    "        \n",
    "            # Append the price at the selected index from chromosome\n",
    "            competitor_prices.append(competitor[index])\n",
    "            store_samples.append(best_chromosome[index])\n",
    "        competitor_samples.append(np.mean(competitor_prices))\n",
    "    \n",
    "    # Calculate the sample means of the competitor prices and store prices\n",
    "    competitor_sample_mean = np.mean(competitor_samples)\n",
    "    store_sample_mean = np.mean(store_samples)\n",
    "    bootstrap_means.append((competitor_sample_mean, store_sample_mean))\n",
    "    \n",
    "    # Calculate the differences between the sample means\n",
    "    difference = store_sample_mean - competitor_sample_mean\n",
    "    bootstrap_differences.append(difference)\n",
    "\n",
    "print('Difference mean:',np.mean(bootstrap_differences))\n",
    "# Calculate the 95% confidence interval\n",
    "lower = np.percentile(bootstrap_differences, 2.5)\n",
    "upper = np.percentile(bootstrap_differences, 97.5)\n",
    "\n",
    "# Plot the distribution of the differences between the sample means\n",
    "fig, ax = plt.subplots()\n",
    "sns.histplot(bootstrap_differences, kde=True, ax=ax)\n",
    "ax.axvline(lower, color='r', linestyle='--', label='95% CI')\n",
    "ax.axvline(upper, color='r', linestyle='--')\n",
    "ax.set_xlabel('Difference in mean basket price')\n",
    "ax.set_ylabel('Frequency')\n",
    "ax.set_title('Distribution of differences in mean basket price')\n",
    "ax.legend()\n",
    "plt.show()"
   ]
  },
  {
   "cell_type": "markdown",
   "id": "cfbb4409-77e3-404f-aeaa-cf3e6d9bf4c9",
   "metadata": {},
   "source": [
    "The plot indicates that the mean difference is below zero, suggesting that a random basket price in our best solution is cheaper than its competitors, by ~ 1.4 NIS. This indicates that the store's prices are competitive with its competitors.\n",
    "\n",
    "##### Improvement in best scores over generations"
   ]
  },
  {
   "cell_type": "code",
   "execution_count": 20,
   "id": "9eead7a5-5636-47c2-a3b0-237b11f06ace",
   "metadata": {},
   "outputs": [
    {
     "data": {
      "image/png": "[encoded data removed]",
      "text/plain": [
       "<Figure size 432x288 with 1 Axes>"
      ]
     },
     "metadata": {
      "needs_background": "light"
     },
     "output_type": "display_data"
    }
   ],
   "source": [
    "# Loop over each island and plot its best scores\n",
    "for i in range(len(best_scores)):\n",
    "    plt.plot(best_scores[i], label=f'Island {i+1}')\n",
    "plt.title('Best scores per island over generations')\n",
    "plt.xlabel('Generation')\n",
    "plt.ylabel('Best score')\n",
    "plt.show()"
   ]
  },
  {
   "cell_type": "markdown",
   "id": "ebf303d8-1562-4e8d-88df-60aa46728675",
   "metadata": {},
   "source": [
    "The plot shows the best scores obtained by each island over the generations in the genetic algorithm. From the plot, we can also conclude that the immigration operator has a significant impact on the improvement of the best score for some islands. This indicates that the exchange of genetic material between different islands has played a critical role in improving the quality of the solutions found by the algorithm."
   ]
  }
 ],
 "metadata": {
  "kernelspec": {
   "display_name": "Python 3",
   "language": "python",
   "name": "python3"
  },
  "language_info": {
   "codemirror_mode": {
    "name": "ipython",
    "version": 3
   },
   "file_extension": ".py",
   "mimetype": "text/x-python",
   "name": "python",
   "nbconvert_exporter": "python",
   "pygments_lexer": "ipython3",
   "version": "3.8.8"
  }
 },
 "nbformat": 4,
 "nbformat_minor": 5
}
